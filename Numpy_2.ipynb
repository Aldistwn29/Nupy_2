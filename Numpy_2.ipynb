{
  "nbformat": 4,
  "nbformat_minor": 0,
  "metadata": {
    "colab": {
      "provenance": [],
      "authorship_tag": "ABX9TyMnvO4gTkDxmQtZn6Per9Q+",
      "include_colab_link": true
    },
    "kernelspec": {
      "name": "python3",
      "display_name": "Python 3"
    },
    "language_info": {
      "name": "python"
    }
  },
  "cells": [
    {
      "cell_type": "markdown",
      "metadata": {
        "id": "view-in-github",
        "colab_type": "text"
      },
      "source": [
        "<a href=\"https://colab.research.google.com/github/Aldistwn29/Nupy_2/blob/main/Numpy_2.ipynb\" target=\"_parent\"><img src=\"https://colab.research.google.com/assets/colab-badge.svg\" alt=\"Open In Colab\"/></a>"
      ]
    },
    {
      "cell_type": "markdown",
      "source": [
        "## lanjutan"
      ],
      "metadata": {
        "id": "mpKHG2ZFJ6kO"
      }
    },
    {
      "cell_type": "code",
      "execution_count": 3,
      "metadata": {
        "id": "GUPCFHGbJy2w"
      },
      "outputs": [],
      "source": [
        "import numpy as np"
      ]
    },
    {
      "cell_type": "markdown",
      "source": [
        "# Slicing and Indexing"
      ],
      "metadata": {
        "id": "rCYFUjkOSPVo"
      }
    },
    {
      "cell_type": "markdown",
      "source": [
        "Fild Access dan Basic Indexing"
      ],
      "metadata": {
        "id": "05rJ_xuPSTjX"
      }
    },
    {
      "cell_type": "code",
      "source": [
        "# contoh 1 index tunggal, field index\n",
        "a = np.arange(10)\n",
        "print(a)\n",
        "b = a[5]\n",
        "print(b)"
      ],
      "metadata": {
        "colab": {
          "base_uri": "https://localhost:8080/"
        },
        "id": "mFI-mww7SRhK",
        "outputId": "6ba9d498-cf3d-42aa-fd85-1f522ecfee3f"
      },
      "execution_count": null,
      "outputs": [
        {
          "output_type": "stream",
          "name": "stdout",
          "text": [
            "[0 1 2 3 4 5 6 7 8 9]\n",
            "5\n"
          ]
        }
      ]
    },
    {
      "cell_type": "code",
      "source": [
        "# contoh 2\n",
        "a = np.arange(10)\n",
        "print(a)\n",
        "s = slice(2,7,2)\n",
        "print(a[s])"
      ],
      "metadata": {
        "colab": {
          "base_uri": "https://localhost:8080/"
        },
        "id": "BcHUWTfASZuI",
        "outputId": "274b4149-d89f-44a4-da84-0827bb585c25"
      },
      "execution_count": null,
      "outputs": [
        {
          "output_type": "stream",
          "name": "stdout",
          "text": [
            "[0 1 2 3 4 5 6 7 8 9]\n",
            "[2 4 6]\n"
          ]
        }
      ]
    },
    {
      "cell_type": "code",
      "source": [
        "# Contoh 3\n",
        "a = np.arange(10)\n",
        "b = a[2:7:2]\n",
        "print(b)"
      ],
      "metadata": {
        "colab": {
          "base_uri": "https://localhost:8080/"
        },
        "id": "hbeR1cE8ScaS",
        "outputId": "b558220e-0bd2-4ead-d808-ee76a8990eb0"
      },
      "execution_count": null,
      "outputs": [
        {
          "output_type": "stream",
          "name": "stdout",
          "text": [
            "[2 4 6]\n"
          ]
        }
      ]
    },
    {
      "cell_type": "markdown",
      "source": [
        "# Slicing"
      ],
      "metadata": {
        "id": "St8lDcJmTFnl"
      }
    },
    {
      "cell_type": "code",
      "source": [
        "# contoh 4 slicing index hanya dengan menggunakan prameter start\n",
        "a = np.arange(10)\n",
        "print(a)\n",
        "print(a[2:])"
      ],
      "metadata": {
        "colab": {
          "base_uri": "https://localhost:8080/"
        },
        "id": "9ghATZmdSfx9",
        "outputId": "33d0a7c0-538c-47be-ee90-a428aa0349fb"
      },
      "execution_count": null,
      "outputs": [
        {
          "output_type": "stream",
          "name": "stdout",
          "text": [
            "[0 1 2 3 4 5 6 7 8 9]\n",
            "[2 3 4 5 6 7 8 9]\n"
          ]
        }
      ]
    },
    {
      "cell_type": "code",
      "source": [
        "# contoh 5 slicing menggunakan start dan stop index\n",
        "a = np.arange(10)\n",
        "print(a)\n",
        "print(a[2:5])"
      ],
      "metadata": {
        "colab": {
          "base_uri": "https://localhost:8080/"
        },
        "id": "JXMrfJqWSmEj",
        "outputId": "6603946f-995f-4f4c-b744-7f92e907921c"
      },
      "execution_count": null,
      "outputs": [
        {
          "output_type": "stream",
          "name": "stdout",
          "text": [
            "[0 1 2 3 4 5 6 7 8 9]\n",
            "[2 3 4]\n"
          ]
        }
      ]
    },
    {
      "cell_type": "code",
      "source": [
        "# contoh 6 slicing pada array 2 dimensu\n",
        "a = np.array([[2,4,5], [3,4,5], [9,4,3]])\n",
        "print(a)\n",
        "\n",
        "# slicing itemn starting from index\n",
        "print(\"Slicing index Array dari a[1:]\")\n",
        "print(a[1:])"
      ],
      "metadata": {
        "colab": {
          "base_uri": "https://localhost:8080/"
        },
        "id": "L4cP3gUJSp28",
        "outputId": "70e28007-1d33-48b0-d2de-40e623b959c9"
      },
      "execution_count": null,
      "outputs": [
        {
          "output_type": "stream",
          "name": "stdout",
          "text": [
            "[[2 4 5]\n",
            " [3 4 5]\n",
            " [9 4 3]]\n",
            "Slicing index Array dari a[1:]\n",
            "[[3 4 5]\n",
            " [9 4 3]]\n"
          ]
        }
      ]
    },
    {
      "cell_type": "code",
      "source": [
        "# contoh 7 mengggunakan ellipsis (...)\n",
        "a = np.array([[2,4,5],\n",
        "               [3,5,3],\n",
        "               [5,6,7]])\n",
        "print('Array kita:')\n",
        "print(a)\n",
        "print('\\n')\n",
        "\n",
        "# ini mengambilkan item di kolom kedua dari array utam\n",
        "print('item dari kolom kedua:')\n",
        "print(a[...,1])\n",
        "print('\\n')\n",
        "\n",
        "# slicing semua item dari baris kedua\n",
        "print('Item dari baris kedua:')\n",
        "print(a[1,...])\n",
        "print('\\n')\n",
        "\n",
        "# mengambil item dari kolom 1 dan seterusnya\n",
        "print('Item dari kolom 1 dan setrusnya:')\n",
        "print(a[...,1:])\n",
        "print('\\n')"
      ],
      "metadata": {
        "colab": {
          "base_uri": "https://localhost:8080/"
        },
        "id": "hEr4BCyBSyxL",
        "outputId": "6e93486b-e572-4455-ce8f-35b278d8cffa"
      },
      "execution_count": null,
      "outputs": [
        {
          "output_type": "stream",
          "name": "stdout",
          "text": [
            "Array kita:\n",
            "[[2 4 5]\n",
            " [3 5 3]\n",
            " [5 6 7]]\n",
            "\n",
            "\n",
            "item dari kolom kedua:\n",
            "[4 5 6]\n",
            "\n",
            "\n",
            "Item dari baris kedua:\n",
            "[3 5 3]\n",
            "\n",
            "\n",
            "Item dari kolom 1 dan setrusnya:\n",
            "[[4 5]\n",
            " [5 3]\n",
            " [6 7]]\n",
            "\n",
            "\n"
          ]
        }
      ]
    },
    {
      "cell_type": "code",
      "source": [
        "# Study case\n",
        "# 1. Buat array 2 dimensi dengan shape(3,4)\n",
        "# 2. index dengan mengambil item baris kedua dan seterusnya sampai bariss terakhir\n",
        "# 3. index dengan mengambil item dari kolom 1 dan 2\n",
        "print('1')\n",
        "a = np.arange(12)\n",
        "print(a)"
      ],
      "metadata": {
        "colab": {
          "base_uri": "https://localhost:8080/"
        },
        "id": "pKapOVNzS2ah",
        "outputId": "14ad5e0c-db6f-4c29-c983-d4eb8ffc784f"
      },
      "execution_count": null,
      "outputs": [
        {
          "output_type": "stream",
          "name": "stdout",
          "text": [
            "1\n",
            "[ 0  1  2  3  4  5  6  7  8  9 10 11]\n"
          ]
        }
      ]
    },
    {
      "cell_type": "code",
      "source": [
        "b = np.reshape(a, newshape=(3, 4), order='C')\n",
        "print(b)"
      ],
      "metadata": {
        "colab": {
          "base_uri": "https://localhost:8080/"
        },
        "id": "I1iw5vdFS6ju",
        "outputId": "d45a12e3-11f7-459d-9e3c-bbc36980bd99"
      },
      "execution_count": null,
      "outputs": [
        {
          "output_type": "stream",
          "name": "stdout",
          "text": [
            "[[ 0  1  2  3]\n",
            " [ 4  5  6  7]\n",
            " [ 8  9 10 11]]\n"
          ]
        }
      ]
    },
    {
      "cell_type": "code",
      "source": [
        "print('3')\n",
        "print(b[...,1:3])"
      ],
      "metadata": {
        "colab": {
          "base_uri": "https://localhost:8080/"
        },
        "id": "3IrdzejUS9Q3",
        "outputId": "5ce4d578-5a56-4422-b8e5-17aa670d2f20"
      },
      "execution_count": null,
      "outputs": [
        {
          "output_type": "stream",
          "name": "stdout",
          "text": [
            "3\n",
            "[[ 1  2]\n",
            " [ 5  6]\n",
            " [ 9 10]]\n"
          ]
        }
      ]
    },
    {
      "cell_type": "markdown",
      "source": [
        "# Adavance Indexing"
      ],
      "metadata": {
        "id": "HB7hCnyUKzNq"
      }
    },
    {
      "cell_type": "markdown",
      "source": [
        "# Integer Index"
      ],
      "metadata": {
        "id": "s_ian2XCK7-o"
      }
    },
    {
      "cell_type": "code",
      "source": [
        "# contoh 1: mengambil elements dari array 2 Dimensi dengan menentukan baris dan kolom yg di salin\n",
        "x = np.array([[1, 3],\n",
        "              [2, 4],\n",
        "              [3, 2]])\n",
        "y = x[[0,1,2], [0,1,1]]\n",
        "print(y)"
      ],
      "metadata": {
        "colab": {
          "base_uri": "https://localhost:8080/"
        },
        "id": "yOxHzIazKED2",
        "outputId": "93b0bed6-035d-4daf-8a0a-9a79add2e38a"
      },
      "execution_count": null,
      "outputs": [
        {
          "output_type": "stream",
          "name": "stdout",
          "text": [
            "[1 4 2]\n"
          ]
        }
      ]
    },
    {
      "cell_type": "code",
      "source": [
        "# contoh 2 mengakses elements index dari array\n",
        "# 2 Dimensi dengan menentukan baris dan kolom yg di salin\n",
        "x = np.array([[1, 3, 5, 2],\n",
        "              [2, 4, 2, 1],\n",
        "              [3, 2, 1, 4],\n",
        "              [2, 3, 1, 2]])\n",
        "print('Array Asli:')\n",
        "print(x)\n",
        "\n",
        "cols = np.array([[0,0], [2,2]]) #baris ke 1 dan 2\n",
        "rows = np.array([[0,2], [0,3]]) # colum ke 2 dan 3\n",
        "y = x[cols,rows]\n",
        "print('Hasil dari index integer:')\n",
        "print(y)"
      ],
      "metadata": {
        "colab": {
          "base_uri": "https://localhost:8080/"
        },
        "id": "NFmt976_MDZ5",
        "outputId": "8dd386a2-7cd7-46f8-88c9-d3a8d4cb765e"
      },
      "execution_count": null,
      "outputs": [
        {
          "output_type": "stream",
          "name": "stdout",
          "text": [
            "Array Asli:\n",
            "[[1 3 5 2]\n",
            " [2 4 2 1]\n",
            " [3 2 1 4]\n",
            " [2 3 1 2]]\n",
            "Hasil dari index integer:\n",
            "[[1 5]\n",
            " [3 4]]\n"
          ]
        }
      ]
    },
    {
      "cell_type": "code",
      "source": [
        "# contoh 3\n",
        "x = np.array([[1, 0, 3],\n",
        "              [6, 8, 5],\n",
        "              [3, 2, 1],\n",
        "              [3, 2, 4]])\n",
        "print('Array Asli:')\n",
        "print(x)\n",
        "print('\\n')\n",
        "# slicing\n",
        "s = x[1:4,1:3]\n",
        "\n",
        "print('Setelah, hasil array menjadi:')\n",
        "print(s)\n",
        "print('\\n')\n",
        "\n",
        "# using advance index for column\n",
        "y = x[1:4,[1,2]]\n",
        "a = x[1:4,[0,1,2]]\n",
        "print('Slicing dengan advance index untuk columns')\n",
        "print(y)\n",
        "print(a)"
      ],
      "metadata": {
        "colab": {
          "base_uri": "https://localhost:8080/"
        },
        "id": "HVH-vGbPPba4",
        "outputId": "b28b7079-504a-4372-a649-a43ff84d5ca8"
      },
      "execution_count": null,
      "outputs": [
        {
          "output_type": "stream",
          "name": "stdout",
          "text": [
            "Array Asli:\n",
            "[[1 0 3]\n",
            " [6 8 5]\n",
            " [3 2 1]\n",
            " [3 2 4]]\n",
            "\n",
            "\n",
            "Setelah, hasil array menjadi:\n",
            "[[8 5]\n",
            " [2 1]\n",
            " [2 4]]\n",
            "\n",
            "\n",
            "Slicing dengan advance index untuk columns\n",
            "[[8 5]\n",
            " [2 1]\n",
            " [2 4]]\n",
            "[[6 8 5]\n",
            " [3 2 1]\n",
            " [3 2 4]]\n"
          ]
        }
      ]
    },
    {
      "cell_type": "markdown",
      "source": [
        "# Boolean indexing"
      ],
      "metadata": {
        "id": "65uLBCKSZ9GX"
      }
    },
    {
      "cell_type": "code",
      "source": [
        "# contoh mengambil elemen dengan index boolean(kondisi)\n",
        "x = np.array([[12, 1, 2, 4],\n",
        "              [3, 4, 3, 5],\n",
        "              [6, 7, 8, 12],\n",
        "              [11, 9, 7, 0]])\n",
        "print('Array asli:')\n",
        "print(x)\n",
        "print('\\n')\n",
        "\n",
        "# How we will print the items greater than 5\n",
        "print('item yg lebih besar dari 5:')\n",
        "print(x[x > 5])"
      ],
      "metadata": {
        "colab": {
          "base_uri": "https://localhost:8080/"
        },
        "id": "1HTGzw9HaBe9",
        "outputId": "ba06ae5a-e9f3-4cbe-c66d-75ec9c334dec"
      },
      "execution_count": null,
      "outputs": [
        {
          "output_type": "stream",
          "name": "stdout",
          "text": [
            "Array asli:\n",
            "[[12  1  2  4]\n",
            " [ 3  4  3  5]\n",
            " [ 6  7  8 12]\n",
            " [11  9  7  0]]\n",
            "\n",
            "\n",
            "item yg lebih besar dari 5:\n",
            "[12  6  7  8 12 11  9  7]\n"
          ]
        }
      ]
    },
    {
      "cell_type": "code",
      "source": [
        "# contoh 2\n",
        "a = np.array((np.nan,1,2,np.nan,3,4,5))\n",
        "print(a[np.isnan(a)])\n",
        "# yg bukan nan\n",
        "print(a[~np.isnan(a)])"
      ],
      "metadata": {
        "colab": {
          "base_uri": "https://localhost:8080/"
        },
        "id": "7kKBd7ZAbcCd",
        "outputId": "49938996-4d71-4b2f-ce2d-1e98e8ca6db8"
      },
      "execution_count": null,
      "outputs": [
        {
          "output_type": "stream",
          "name": "stdout",
          "text": [
            "[nan nan]\n",
            "[1. 2. 3. 4. 5.]\n"
          ]
        }
      ]
    },
    {
      "cell_type": "code",
      "source": [
        "# contoh 3\n",
        "a = np.array([1,3,2+6j,3.5+4j])\n",
        "# print(a[~np.iscomplex(a)])\n",
        "print(a)"
      ],
      "metadata": {
        "colab": {
          "base_uri": "https://localhost:8080/"
        },
        "id": "eVV3_qTPcH_t",
        "outputId": "c89d3391-1efd-4c49-bb78-7a76f37398a6"
      },
      "execution_count": null,
      "outputs": [
        {
          "output_type": "stream",
          "name": "stdout",
          "text": [
            "[1. +0.j 3. +0.j 2. +6.j 3.5+4.j]\n"
          ]
        }
      ]
    },
    {
      "cell_type": "markdown",
      "source": [
        "Study Case:\n",
        "1. Buat Array 2 dimensi dengan shape(3,4) yg isinya campuran antara integer,complex, dan nan\n",
        "2.Ambil item dengan index boolean khusus untuk integer, nan dan complex  "
      ],
      "metadata": {
        "id": "UPNSa4C5cl7J"
      }
    },
    {
      "cell_type": "code",
      "source": [
        "# isi dari pertanyaan di atas\n",
        "print('jwb no 1')\n",
        "a = np.array([[1, 3.9+2j, np.nan, 4],\n",
        "              [2+6j, 6, np.nan, 5],\n",
        "              [np.nan, 7+1j, 2, np.nan]])\n",
        "\n",
        "print(a)\n",
        "\n",
        "print('jwb no 2')\n",
        "# print((a[(~np.isnan(a)) & (~np.iscomplex(a)) & (a > 2)]))\n",
        "print('integer')\n",
        "print(a[(~np.iscomplex(a)) & (~np.isnan(a))])\n",
        "print('nan')\n",
        "print(a[np.isnan(a)])\n",
        "print('complex')\n",
        "print(a[np.iscomplex(a)])"
      ],
      "metadata": {
        "colab": {
          "base_uri": "https://localhost:8080/"
        },
        "id": "uE2VwwkodHEY",
        "outputId": "f867be95-ed50-4eae-aa5a-0643741adeef"
      },
      "execution_count": null,
      "outputs": [
        {
          "output_type": "stream",
          "name": "stdout",
          "text": [
            "jwb no 1\n",
            "[[1. +0.j 3.9+2.j nan+0.j 4. +0.j]\n",
            " [2. +6.j 6. +0.j nan+0.j 5. +0.j]\n",
            " [nan+0.j 7. +1.j 2. +0.j nan+0.j]]\n",
            "jwb no 2\n",
            "integer\n",
            "[1.+0.j 4.+0.j 6.+0.j 5.+0.j 2.+0.j]\n",
            "nan\n",
            "[nan+0.j nan+0.j nan+0.j nan+0.j]\n",
            "complex\n",
            "[3.9+2.j 2. +6.j 7. +1.j]\n"
          ]
        }
      ]
    },
    {
      "cell_type": "markdown",
      "source": [
        "# Mengubah Shape"
      ],
      "metadata": {
        "id": "-VMcDwUMkSyH"
      }
    },
    {
      "cell_type": "markdown",
      "source": [
        "# reshape"
      ],
      "metadata": {
        "id": "-Hm_aZKOkWqu"
      }
    },
    {
      "cell_type": "code",
      "source": [
        "a = np.arange(8)\n",
        "print('Array asli:')\n",
        "print(a)\n",
        "print('\\n')\n",
        "\n",
        "\n",
        "b = a.reshape(4,2)\n",
        "print('Array yg telah di modifikasi')\n",
        "print(b)"
      ],
      "metadata": {
        "colab": {
          "base_uri": "https://localhost:8080/"
        },
        "id": "6A1f1PyekZ2C",
        "outputId": "89e1810b-34f2-4fc4-8dd2-ea0b5cd50d87"
      },
      "execution_count": 13,
      "outputs": [
        {
          "output_type": "stream",
          "name": "stdout",
          "text": [
            "Array asli:\n",
            "[0 1 2 3 4 5 6 7]\n",
            "\n",
            "\n",
            "Array yg telah di modifikasi\n",
            "[[0 1]\n",
            " [2 3]\n",
            " [4 5]\n",
            " [6 7]]\n"
          ]
        }
      ]
    },
    {
      "cell_type": "markdown",
      "source": [
        "# Flatten"
      ],
      "metadata": {
        "id": "VQKC6_3hlWLP"
      }
    },
    {
      "cell_type": "code",
      "source": [
        "a = np.arange(8).reshape(2,4)\n",
        "\n",
        "print('Array asli:')\n",
        "print(a)\n",
        "print('\\n')\n",
        "\n",
        "print('Array yg telah di modifikasi:')\n",
        "print(a.flatten())\n",
        "print('\\n')\n",
        "\n",
        "print('Flattened array dalam F-style ordering:')\n",
        "print(a.flatten(order = 'F'))"
      ],
      "metadata": {
        "colab": {
          "base_uri": "https://localhost:8080/"
        },
        "id": "bO8s-o_KlVYr",
        "outputId": "75ed407e-5250-4342-db40-2d53e7ea189b"
      },
      "execution_count": 18,
      "outputs": [
        {
          "output_type": "stream",
          "name": "stdout",
          "text": [
            "Array asli:\n",
            "[[0 1 2 3]\n",
            " [4 5 6 7]]\n",
            "\n",
            "\n",
            "Array yg telah di modifikasi:\n",
            "[0 1 2 3 4 5 6 7]\n",
            "\n",
            "\n",
            "Flattened array dalam F-style ordering:\n",
            "[0 4 1 5 2 6 3 7]\n"
          ]
        }
      ]
    },
    {
      "cell_type": "markdown",
      "source": [
        "# Ravel"
      ],
      "metadata": {
        "id": "B3ApF1EmmvkV"
      }
    },
    {
      "cell_type": "code",
      "source": [
        "a = np.arange(8).reshape(2,4)\n",
        "\n",
        "print('Array asli:')\n",
        "print(a)\n",
        "print('\\n')\n",
        "\n",
        "print('hasil dari fungsi ravel:')\n",
        "print(a.ravel())\n",
        "print('\\n')\n",
        "\n",
        "print('menggunakan ravel function dalam F-stayle ordering:')\n",
        "print(a.ravel(order = 'F'))"
      ],
      "metadata": {
        "colab": {
          "base_uri": "https://localhost:8080/"
        },
        "id": "Nh8ony8WmvJA",
        "outputId": "052233fa-b4af-4463-c26a-b2b8976eea6d"
      },
      "execution_count": 26,
      "outputs": [
        {
          "output_type": "stream",
          "name": "stdout",
          "text": [
            "Array asli:\n",
            "[[0 1 2 3]\n",
            " [4 5 6 7]]\n",
            "\n",
            "\n",
            "hasil dari fungsi ravel:\n",
            "[0 1 2 3 4 5 6 7]\n",
            "\n",
            "\n",
            "menggunakan ravel function dalam F-stayle ordering:\n",
            "[0 4 1 5 2 6 3 7]\n"
          ]
        }
      ]
    },
    {
      "cell_type": "markdown",
      "source": [
        "# Transpose"
      ],
      "metadata": {
        "id": "bCR7ZMsJrwB7"
      }
    },
    {
      "cell_type": "code",
      "source": [
        "a = np.arange(12).reshape(4,3)\n",
        "\n",
        "print('Array asli:')\n",
        "print(a)\n",
        "print('\\n')\n",
        "\n",
        "print('Array yang telah di modifikasi:')\n",
        "print(np.transpose(a))\n",
        "print('\\n')\n",
        "\n",
        "print('Array yg telah di transpose:')\n",
        "print(a.T)"
      ],
      "metadata": {
        "colab": {
          "base_uri": "https://localhost:8080/"
        },
        "id": "1hfBoBKrrzGa",
        "outputId": "bfb096e3-4e83-4d59-be8e-e2196f8f8e4b"
      },
      "execution_count": 35,
      "outputs": [
        {
          "output_type": "stream",
          "name": "stdout",
          "text": [
            "Array asli:\n",
            "[[ 0  1  2]\n",
            " [ 3  4  5]\n",
            " [ 6  7  8]\n",
            " [ 9 10 11]]\n",
            "\n",
            "\n",
            "Array yang telah di modifikasi:\n",
            "[[ 0  3  6  9]\n",
            " [ 1  4  7 10]\n",
            " [ 2  5  8 11]]\n",
            "\n",
            "\n",
            "Array yg telah di transpose:\n",
            "[[ 0  3  6  9]\n",
            " [ 1  4  7 10]\n",
            " [ 2  5  8 11]]\n"
          ]
        }
      ]
    },
    {
      "cell_type": "markdown",
      "source": [
        "# Conncate"
      ],
      "metadata": {
        "id": "D9KthvzUs7X9"
      }
    },
    {
      "cell_type": "code",
      "source": [
        "a = np.array([[1,2],\n",
        "              [3,4]])\n",
        "b = np.array([[5,6],\n",
        "              [7,8]])\n",
        "\n",
        "print('Array Asli:')\n",
        "print(a)\n",
        "print('\\n')\n",
        "\n",
        "print('Array Kedua:')\n",
        "print(b)\n",
        "print('\\n')\n",
        "# both the arrays are of same dimension\n",
        "\n",
        "print('Gabungan dua array di sumbu:0')\n",
        "print(np.concatenate((a,b)))\n",
        "print('\\n')\n",
        "\n",
        "print('Gabungan dua array di sumbu:1')\n",
        "print(np.concatenate((a,b), axis=1))\n",
        "print('\\n')"
      ],
      "metadata": {
        "colab": {
          "base_uri": "https://localhost:8080/"
        },
        "id": "Csq-FMMpsBK-",
        "outputId": "7c936bcb-5b69-46aa-abcb-b9b58a3d43e0"
      },
      "execution_count": 56,
      "outputs": [
        {
          "output_type": "stream",
          "name": "stdout",
          "text": [
            "Array Asli:\n",
            "[[1 2]\n",
            " [3 4]]\n",
            "\n",
            "\n",
            "Array Kedua:\n",
            "[[5 6]\n",
            " [7 8]]\n",
            "\n",
            "\n",
            "Gabungan dua array di sumbu:0\n",
            "[[1 2]\n",
            " [3 4]\n",
            " [5 6]\n",
            " [7 8]]\n",
            "\n",
            "\n",
            "Gabungan dua array di sumbu:1\n",
            "[[1 2 5 6]\n",
            " [3 4 7 8]]\n",
            "\n",
            "\n"
          ]
        }
      ]
    },
    {
      "cell_type": "markdown",
      "source": [
        "# stack"
      ],
      "metadata": {
        "id": "M3CEbvy1v3P1"
      }
    },
    {
      "cell_type": "code",
      "source": [
        "a = np.array([[1,2],[3,4]])\n",
        "b = np.array([[5,6],\n",
        "              [7,8]])\n",
        "\n",
        "print('Array Asli:')\n",
        "print(a)\n",
        "print('\\n')\n",
        "\n",
        "print('Array kedua:')\n",
        "print(b)\n",
        "print('\\n')\n",
        "\n",
        "print('Stack dua array pada sumbu=0')\n",
        "print(np.stack((a,b),0))\n",
        "print('\\n')\n",
        "\n",
        "print('Stack dua array pada sumbu=1')\n",
        "print(np.stack((a,b),1))\n",
        "print('\\n')"
      ],
      "metadata": {
        "colab": {
          "base_uri": "https://localhost:8080/"
        },
        "id": "y_ZW7Ubuwtec",
        "outputId": "8cc5df39-5100-4314-8fdd-adf27cafa457"
      },
      "execution_count": 62,
      "outputs": [
        {
          "output_type": "stream",
          "name": "stdout",
          "text": [
            "Array Asli:\n",
            "[[1 2]\n",
            " [3 4]]\n",
            "\n",
            "\n",
            "Array kedua:\n",
            "[[5 6]\n",
            " [7 8]]\n",
            "\n",
            "\n",
            "Stack dua array pada sumbu=0\n",
            "[[[1 2]\n",
            "  [3 4]]\n",
            "\n",
            " [[5 6]\n",
            "  [7 8]]]\n",
            "\n",
            "\n",
            "Stack dua array pada sumbu=1\n",
            "[[[1 2]\n",
            "  [5 6]]\n",
            "\n",
            " [[3 4]\n",
            "  [7 8]]]\n",
            "\n",
            "\n"
          ]
        }
      ]
    },
    {
      "cell_type": "code",
      "source": [
        "a = np.array([[1,2],[3,4]])\n",
        "b = np.array([[5,6],[7,8]])\n",
        "\n",
        "print('Array Asli:')\n",
        "print(a)\n",
        "print('\\n')\n",
        "\n",
        "print('Array kedua:')\n",
        "print(b)\n",
        "print('\\n')\n",
        "\n",
        "print('Horizontal stacking:')\n",
        "c = np.hstack((a,b))\n",
        "print(c)\n",
        "print('\\n')"
      ],
      "metadata": {
        "colab": {
          "base_uri": "https://localhost:8080/"
        },
        "id": "WHEssLc3yfjo",
        "outputId": "079c0676-3a50-4a25-b417-27e246506a08"
      },
      "execution_count": 68,
      "outputs": [
        {
          "output_type": "stream",
          "name": "stdout",
          "text": [
            "Array Asli:\n",
            "[[1 2]\n",
            " [3 4]]\n",
            "\n",
            "\n",
            "Array kedua:\n",
            "[[5 6]\n",
            " [7 8]]\n",
            "\n",
            "\n",
            "Horizontal stacking:\n",
            "[[1 2 5 6]\n",
            " [3 4 7 8]]\n",
            "\n",
            "\n"
          ]
        }
      ]
    },
    {
      "cell_type": "markdown",
      "source": [
        "# vstack"
      ],
      "metadata": {
        "id": "1lKHFFgky-EH"
      }
    },
    {
      "cell_type": "code",
      "source": [
        "a = np.array([[1,2],[3,4]])\n",
        "b = np.array([[5,6],[7,8]])\n",
        "\n",
        "print('Array Asli:')\n",
        "print(a)\n",
        "print('\\n')\n",
        "\n",
        "print('Array kedua:')\n",
        "print(b)\n",
        "print('\\n')\n",
        "\n",
        "print('Vertikal stacking:')\n",
        "c = np.vstack((a,b))\n",
        "print(c)"
      ],
      "metadata": {
        "colab": {
          "base_uri": "https://localhost:8080/"
        },
        "id": "-CGGdlVhzA_Z",
        "outputId": "daeac636-baf8-4528-c44b-3b15fea61e1c"
      },
      "execution_count": 74,
      "outputs": [
        {
          "output_type": "stream",
          "name": "stdout",
          "text": [
            "Array Asli:\n",
            "[[1 2]\n",
            " [3 4]]\n",
            "\n",
            "\n",
            "Array kedua:\n",
            "[[5 6]\n",
            " [7 8]]\n",
            "\n",
            "\n",
            "Vertikal stacking:\n",
            "[[1 2]\n",
            " [3 4]\n",
            " [5 6]\n",
            " [7 8]]\n"
          ]
        }
      ]
    },
    {
      "cell_type": "markdown",
      "source": [
        "# Splitting Array"
      ],
      "metadata": {
        "id": "YGw-tmbxzsyf"
      }
    },
    {
      "cell_type": "markdown",
      "source": [
        "# split"
      ],
      "metadata": {
        "id": "cf8m1a0u0Gjq"
      }
    },
    {
      "cell_type": "code",
      "source": [
        "a = np.arange(9)\n",
        "\n",
        "print('Array pertama:')\n",
        "print(a)\n",
        "print('\\n')\n",
        "\n",
        "print('split array menjadi 3 sub-array yg setara:')\n",
        "b = np.split(a,3)\n",
        "print(b)\n",
        "print('\\n')\n",
        "\n",
        "print('split berdasarkan index pada array 1 dimensi:')\n",
        "b = np.split(a,[4,5]) # numpy.split(ary, indices_or_section, axis)\n",
        "# parameter indices_or_section dapat berupa bilangan bulat\n",
        "print(b)"
      ],
      "metadata": {
        "colab": {
          "base_uri": "https://localhost:8080/"
        },
        "id": "JU9dmPL40JW_",
        "outputId": "39520f3f-25d6-4970-8fd4-878477ad1ecd"
      },
      "execution_count": 98,
      "outputs": [
        {
          "output_type": "stream",
          "name": "stdout",
          "text": [
            "Array pertama:\n",
            "[0 1 2 3 4 5 6 7 8]\n",
            "\n",
            "\n",
            "split array menjadi 3 sub-array yg setara:\n",
            "[array([0, 1, 2]), array([3, 4, 5]), array([6, 7, 8])]\n",
            "\n",
            "\n",
            "split berdasarkan index pada array 1 dimensi:\n",
            "[array([0, 1, 2, 3]), array([4]), array([5, 6, 7, 8])]\n"
          ]
        }
      ]
    },
    {
      "cell_type": "markdown",
      "source": [
        "# hsplit"
      ],
      "metadata": {
        "id": "J1FNEdPH46rk"
      }
    },
    {
      "cell_type": "code",
      "source": [
        "a = np.arange(16).reshape(4,4)\n",
        "\n",
        "print('Array pertama:')\n",
        "print(a)\n",
        "print('\\n')\n",
        "\n",
        "print('Horizontal spliting:') # columns wise\n",
        "b = np.hsplit(a,2)\n",
        "print(b)"
      ],
      "metadata": {
        "colab": {
          "base_uri": "https://localhost:8080/"
        },
        "id": "c_pIJh8g5AH0",
        "outputId": "10e73506-2b54-474d-f79f-54c27c01b050"
      },
      "execution_count": 114,
      "outputs": [
        {
          "output_type": "stream",
          "name": "stdout",
          "text": [
            "Array pertama:\n",
            "[[ 0  1  2  3]\n",
            " [ 4  5  6  7]\n",
            " [ 8  9 10 11]\n",
            " [12 13 14 15]]\n",
            "\n",
            "\n",
            "Horizontal spliting:\n",
            "[array([[ 0,  1],\n",
            "       [ 4,  5],\n",
            "       [ 8,  9],\n",
            "       [12, 13]]), array([[ 2,  3],\n",
            "       [ 6,  7],\n",
            "       [10, 11],\n",
            "       [14, 15]])]\n"
          ]
        }
      ]
    },
    {
      "cell_type": "markdown",
      "source": [
        "# vsplit"
      ],
      "metadata": {
        "id": "ovdLxTAy-nvC"
      }
    },
    {
      "cell_type": "code",
      "source": [
        "a = np.arange(16).reshape(4,4)\n",
        "\n",
        "print('Array pertama:')\n",
        "print(a)\n",
        "print('\\n')\n",
        "\n",
        "print('Vertical splitting:')\n",
        "b =  np.vsplit(a,2)\n",
        "print(b)"
      ],
      "metadata": {
        "colab": {
          "base_uri": "https://localhost:8080/"
        },
        "id": "lZIuF1JY-qPH",
        "outputId": "3feb7e16-55dc-4cdf-9c1a-729180dff217"
      },
      "execution_count": 116,
      "outputs": [
        {
          "output_type": "stream",
          "name": "stdout",
          "text": [
            "Array pertama:\n",
            "[[ 0  1  2  3]\n",
            " [ 4  5  6  7]\n",
            " [ 8  9 10 11]\n",
            " [12 13 14 15]]\n",
            "\n",
            "\n",
            "Vertical splitting:\n",
            "[array([[0, 1, 2, 3],\n",
            "       [4, 5, 6, 7]]), array([[ 8,  9, 10, 11],\n",
            "       [12, 13, 14, 15]])]\n"
          ]
        }
      ]
    },
    {
      "cell_type": "markdown",
      "source": [
        "# Mengubah Element Array(Add/Remove)"
      ],
      "metadata": {
        "id": "na352RFq_Kc3"
      }
    },
    {
      "cell_type": "markdown",
      "source": [
        "# Resize\n"
      ],
      "metadata": {
        "id": "xWWeVyJF_qZR"
      }
    },
    {
      "cell_type": "code",
      "source": [
        "# Risize\n",
        "a = np.array([[1,2,3],\n",
        "              [4,5,6]])\n",
        "\n",
        "print('Array Awal:')\n",
        "print(a)\n",
        "print('\\n')\n",
        "\n",
        "print('shape array pertama:')\n",
        "print(a.shape)\n",
        "print('\\n')\n",
        "b = np.resize(a,(3,2))\n",
        "\n",
        "print('Array pertama:')\n",
        "print(b)\n",
        "print('\\n')\n",
        "\n",
        "print('shape array kedua:')\n",
        "print(b.shape)\n",
        "print('\\n')\n",
        "\n",
        "# Observe that frist row of a is repeated in b since size is bigger\n",
        "\n",
        "print('resize array kedua:')\n",
        "b = np.resize(a,(4,3))\n",
        "print(b)"
      ],
      "metadata": {
        "colab": {
          "base_uri": "https://localhost:8080/"
        },
        "id": "wSMOK_ng_xNl",
        "outputId": "463dda60-2685-492b-fd70-e7075e2f1b05"
      },
      "execution_count": 126,
      "outputs": [
        {
          "output_type": "stream",
          "name": "stdout",
          "text": [
            "Array Awal:\n",
            "[[1 2 3]\n",
            " [4 5 6]]\n",
            "\n",
            "\n",
            "shape array pertama:\n",
            "(2, 3)\n",
            "\n",
            "\n",
            "Array pertama:\n",
            "[[1 2]\n",
            " [3 4]\n",
            " [5 6]]\n",
            "\n",
            "\n",
            "shape array kedua:\n",
            "(3, 2)\n",
            "\n",
            "\n",
            "resize array kedua:\n",
            "[[1 2 3]\n",
            " [4 5 6]\n",
            " [1 2 3]\n",
            " [4 5 6]]\n"
          ]
        }
      ]
    },
    {
      "cell_type": "markdown",
      "source": [
        "# Append"
      ],
      "metadata": {
        "id": "lcX-eQ6_Bj3M"
      }
    },
    {
      "cell_type": "code",
      "source": [
        "# Append\n",
        "print('Array Awal:')\n",
        "print(a)\n",
        "print('\\n')\n",
        "\n",
        "print('Append elements to array:')\n",
        "print(np.append(a,[7,8,9]))\n",
        "print('\\n')\n",
        "\n",
        "print('Append elements along axis:0')\n",
        "print(np.append(a,[[7,8,9]], axis=0))\n",
        "print('\\n')\n",
        "\n",
        "print('Append elements along axis:1')\n",
        "print(np.append(a,[[7,8,9],[7,7,7]], axis=1))"
      ],
      "metadata": {
        "colab": {
          "base_uri": "https://localhost:8080/"
        },
        "id": "gfCxbT_9Bl39",
        "outputId": "d99a46ff-424a-4a4c-96c6-8f3d1ce6b84a"
      },
      "execution_count": 137,
      "outputs": [
        {
          "output_type": "stream",
          "name": "stdout",
          "text": [
            "Array Awal:\n",
            "[[1 2 3]\n",
            " [4 5 6]]\n",
            "\n",
            "\n",
            "Append elements to array:\n",
            "[1 2 3 4 5 6 7 8 9]\n",
            "\n",
            "\n",
            "Append elements along axis:0\n",
            "[[1 2 3]\n",
            " [4 5 6]\n",
            " [7 8 9]]\n",
            "\n",
            "\n",
            "Append elements along axis:1\n",
            "[[1 2 3 7 8 9]\n",
            " [4 5 6 7 7 7]]\n"
          ]
        }
      ]
    },
    {
      "cell_type": "markdown",
      "source": [
        "# Insert"
      ],
      "metadata": {
        "id": "Zyyv8Ag1EVsa"
      }
    },
    {
      "cell_type": "code",
      "source": [
        "# insert\n",
        "a = np.array([[1,2],\n",
        "              [3,4],\n",
        "              [5,6]])\n",
        "print('Array Awal:')\n",
        "print(a)\n",
        "print('\\n')\n",
        "\n",
        "print('tanpa parameter axis. sebelum insertion arraynya di flattened.')\n",
        "print(np.insert(a,3,[11,12]))\n",
        "print('\\n')\n",
        "print('Menggunakan parameter axis. value arraynya di broadcasr untuk menyamakan input.')\n",
        "\n",
        "print('Brodcast sepanjang axis = 0')\n",
        "print(np.insert(a,1,[11],axis=0))\n",
        "print('\\n')\n",
        "\n",
        "print('Broadcast sepanjang axis=1:')\n",
        "print(np.insert(a,1,11,axis=1))"
      ],
      "metadata": {
        "colab": {
          "base_uri": "https://localhost:8080/"
        },
        "id": "NMs1zsVAEYe7",
        "outputId": "95fb753c-f04c-4712-de7b-d7c380d0114e"
      },
      "execution_count": 144,
      "outputs": [
        {
          "output_type": "stream",
          "name": "stdout",
          "text": [
            "Array Awal:\n",
            "[[1 2]\n",
            " [3 4]\n",
            " [5 6]]\n",
            "\n",
            "\n",
            "tanpa parameter axis. sebelum insertion arraynya di flattened.\n",
            "[ 1  2  3 11 12  4  5  6]\n",
            "\n",
            "\n",
            "Menggunakan parameter axis. value arraynya di broadcasr untuk menyamakan input.\n",
            "Brodcast sepanjang axis = 0\n",
            "[[ 1  2]\n",
            " [11 11]\n",
            " [ 3  4]\n",
            " [ 5  6]]\n",
            "\n",
            "\n",
            "Broadcast sepanjang axis=1:\n",
            "[[ 1 11  2]\n",
            " [ 3 11  4]\n",
            " [ 5 11  6]]\n"
          ]
        }
      ]
    },
    {
      "cell_type": "markdown",
      "source": [
        "# delete"
      ],
      "metadata": {
        "id": "GCZIdgGrG-qN"
      }
    },
    {
      "cell_type": "code",
      "source": [
        "# delete\n",
        "a = np.arange(12).reshape(3,4)\n",
        "print('Frist Array')\n",
        "print(a)\n",
        "print('\\n')\n",
        "\n",
        "print('tanpa parameter axis maka di flattend sebelum di delete')\n",
        "print(np.delete(a,5))\n",
        "print('\\n')\n",
        "\n",
        "print('kolom 2 deleted')\n",
        "print(np.delete(a,1,axis=1))"
      ],
      "metadata": {
        "colab": {
          "base_uri": "https://localhost:8080/"
        },
        "id": "YWY24T9gHBbK",
        "outputId": "5c25c127-6cb5-4338-c229-39037986f9ba"
      },
      "execution_count": 147,
      "outputs": [
        {
          "output_type": "stream",
          "name": "stdout",
          "text": [
            "Frist Array\n",
            "[[ 0  1  2  3]\n",
            " [ 4  5  6  7]\n",
            " [ 8  9 10 11]]\n",
            "\n",
            "\n",
            "tanpa parameter axis maka di flattend sebelum di delete\n",
            "[ 0  1  2  3  4  6  7  8  9 10 11]\n",
            "\n",
            "\n",
            "kolom 2 deleted\n",
            "[[ 0  2  3]\n",
            " [ 4  6  7]\n",
            " [ 8 10 11]]\n"
          ]
        }
      ]
    },
    {
      "cell_type": "markdown",
      "source": [
        "# Unique elements"
      ],
      "metadata": {
        "id": "9JQqCoAlH6E2"
      }
    },
    {
      "cell_type": "code",
      "source": [
        "a = np.array([5,2,6,2,7,5,8,2,9])\n",
        "print(\"Frist Array\")\n",
        "print(a)\n",
        "print('\\n')\n",
        "\n",
        "print('value unik dari array pertama')\n",
        "u = np.unique(a)\n",
        "print(u)\n",
        "print('\\n')\n",
        "\n",
        "print('index array:')\n",
        "u, indices = np.unique(a, return_index = True)\n",
        "print(indices)\n",
        "print('\\n')"
      ],
      "metadata": {
        "colab": {
          "base_uri": "https://localhost:8080/"
        },
        "id": "SIfXPStUH4rQ",
        "outputId": "564cd83d-0013-4abd-ccc9-35a87260a232"
      },
      "execution_count": 153,
      "outputs": [
        {
          "output_type": "stream",
          "name": "stdout",
          "text": [
            "Frist Array\n",
            "[5 2 6 2 7 5 8 2 9]\n",
            "\n",
            "\n",
            "value unik dari array pertama\n",
            "[2 5 6 7 8 9]\n",
            "\n",
            "\n",
            "index array:\n",
            "[1 0 2 4 6 8]\n",
            "\n",
            "\n"
          ]
        }
      ]
    }
  ]
}