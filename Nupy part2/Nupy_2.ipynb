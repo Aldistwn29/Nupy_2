{
 "cells": [
  {
   "cell_type": "code",
   "execution_count": 2,
   "metadata": {},
   "outputs": [],
   "source": [
    "import numpy as np"
   ]
  },
  {
   "cell_type": "markdown",
   "metadata": {},
   "source": [
    "Slicing and Indexing"
   ]
  },
  {
   "cell_type": "markdown",
   "metadata": {},
   "source": [
    "Fild Access dan Basic Indexing"
   ]
  },
  {
   "cell_type": "code",
   "execution_count": 5,
   "metadata": {},
   "outputs": [
    {
     "name": "stdout",
     "output_type": "stream",
     "text": [
      "[0 1 2 3 4 5 6 7 8 9]\n",
      "5\n"
     ]
    }
   ],
   "source": [
    "# contoh 1 index tunggal, field index\n",
    "a = np.arange(10)\n",
    "print(a)\n",
    "b = a[5]\n",
    "print(b)"
   ]
  },
  {
   "cell_type": "code",
   "execution_count": 9,
   "metadata": {},
   "outputs": [
    {
     "name": "stdout",
     "output_type": "stream",
     "text": [
      "[0 1 2 3 4 5 6 7 8 9]\n",
      "[2 4 6]\n"
     ]
    }
   ],
   "source": [
    "# contoh 2\n",
    "a = np.arange(10)\n",
    "print(a)\n",
    "s = slice(2,7,2)\n",
    "print(a[s])"
   ]
  },
  {
   "cell_type": "code",
   "execution_count": 11,
   "metadata": {},
   "outputs": [
    {
     "name": "stdout",
     "output_type": "stream",
     "text": [
      "[2 4 6]\n"
     ]
    }
   ],
   "source": [
    "# Contoh 3\n",
    "a = np.arange(10)\n",
    "b = a[2:7:2]\n",
    "print(b)\n"
   ]
  },
  {
   "cell_type": "code",
   "execution_count": 15,
   "metadata": {},
   "outputs": [
    {
     "name": "stdout",
     "output_type": "stream",
     "text": [
      "[0 1 2 3 4 5 6 7 8 9]\n",
      "[2 3 4 5 6 7 8 9]\n"
     ]
    }
   ],
   "source": [
    "# contoh 4 slicing index hanya dengan menggunakan prameter start\n",
    "a = np.arange(10)\n",
    "print(a)\n",
    "print(a[2:])"
   ]
  },
  {
   "cell_type": "code",
   "execution_count": 16,
   "metadata": {},
   "outputs": [
    {
     "name": "stdout",
     "output_type": "stream",
     "text": [
      "[0 1 2 3 4 5 6 7 8 9]\n",
      "[2 3 4]\n"
     ]
    }
   ],
   "source": [
    "# contoh 5 slicing menggunakan start dan stop index\n",
    "a = np.arange(10)\n",
    "print(a)\n",
    "print(a[2:5])"
   ]
  },
  {
   "cell_type": "code",
   "execution_count": 32,
   "metadata": {},
   "outputs": [
    {
     "name": "stdout",
     "output_type": "stream",
     "text": [
      "[[2 4 5]\n",
      " [3 4 5]\n",
      " [9 4 3]]\n",
      "Slicing index Array dari a[1:]\n",
      "[[3 4 5]\n",
      " [9 4 3]]\n"
     ]
    }
   ],
   "source": [
    "# contoh 6 slicing pada array 2 dimensu\n",
    "a = np.array([[2,4,5], [3,4,5], [9,4,3]])\n",
    "print(a) \n",
    "\n",
    "# slicing itemn starting from index\n",
    "print(\"Slicing index Array dari a[1:]\")\n",
    "print(a[1:])"
   ]
  },
  {
   "cell_type": "code",
   "execution_count": 40,
   "metadata": {},
   "outputs": [
    {
     "name": "stdout",
     "output_type": "stream",
     "text": [
      "Array kita:\n",
      "[[2 4 5]\n",
      " [3 5 3]\n",
      " [5 6 7]]\n",
      "\n",
      "\n",
      "item dari kolom kedua:\n",
      "[4 5 6]\n",
      "\n",
      "\n",
      "Item dari baris kedua:\n",
      "[3 5 3]\n",
      "\n",
      "\n",
      "Item dari kolom 1 dan setrusnya:\n",
      "[[4 5]\n",
      " [5 3]\n",
      " [6 7]]\n",
      "\n",
      "\n"
     ]
    }
   ],
   "source": [
    "# contoh 7 mengggunakan ellipsis (...)\n",
    "a = np.array([[2,4,5],\n",
    "               [3,5,3],\n",
    "               [5,6,7]])\n",
    "print('Array kita:')\n",
    "print(a)\n",
    "print('\\n')\n",
    "\n",
    "# ini mengambilkan item di kolom kedua dari array utam\n",
    "print('item dari kolom kedua:')\n",
    "print(a[...,1])\n",
    "print('\\n')\n",
    "\n",
    "# slicing semua item dari baris kedua\n",
    "print('Item dari baris kedua:')\n",
    "print(a[1,...])\n",
    "print('\\n')\n",
    "\n",
    "# mengambil item dari kolom 1 dan seterusnya\n",
    "print('Item dari kolom 1 dan setrusnya:')\n",
    "print(a[...,1:])\n",
    "print('\\n')\n"
   ]
  },
  {
   "cell_type": "code",
   "execution_count": 31,
   "metadata": {},
   "outputs": [
    {
     "name": "stdout",
     "output_type": "stream",
     "text": [
      "1\n",
      "[ 0  1  2  3  4  5  6  7  8  9 10 11]\n"
     ]
    }
   ],
   "source": [
    "# Study case\n",
    "# 1. Buat array 2 dimensi dengan shape(3,4)\n",
    "# 2. index dengan mengambil item baris kedua dan seterusnya sampai bariss terakhir\n",
    "# 3. index dengan mengambil item dari kolom 1 dan 2\n",
    "print('1')\n",
    "a = np.arange(12)\n",
    "print(a)\n"
   ]
  },
  {
   "cell_type": "code",
   "execution_count": 33,
   "metadata": {},
   "outputs": [
    {
     "name": "stdout",
     "output_type": "stream",
     "text": [
      "[[ 0  1  2  3]\n",
      " [ 4  5  6  7]\n",
      " [ 8  9 10 11]]\n"
     ]
    }
   ],
   "source": [
    "b = np.reshape(a, newshape=(3, 4), order='C')\n",
    "print(b)"
   ]
  },
  {
   "cell_type": "code",
   "execution_count": 47,
   "metadata": {},
   "outputs": [
    {
     "name": "stdout",
     "output_type": "stream",
     "text": [
      "3\n",
      "[[ 1  2]\n",
      " [ 5  6]\n",
      " [ 9 10]]\n"
     ]
    }
   ],
   "source": [
    "print('3')\n",
    "print(b[...,1:3])"
   ]
  }
 ],
 "metadata": {
  "kernelspec": {
   "display_name": "Python 3",
   "language": "python",
   "name": "python3"
  },
  "language_info": {
   "codemirror_mode": {
    "name": "ipython",
    "version": 3
   },
   "file_extension": ".py",
   "mimetype": "text/x-python",
   "name": "python",
   "nbconvert_exporter": "python",
   "pygments_lexer": "ipython3",
   "version": "3.10.11"
  }
 },
 "nbformat": 4,
 "nbformat_minor": 2
}
